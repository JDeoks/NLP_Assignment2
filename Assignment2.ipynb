{
 "cells": [
  {
   "cell_type": "markdown",
   "id": "bf065c9c",
   "metadata": {},
   "source": [
    "사전순 정렬 대신 nature sort를 사용한다."
   ]
  },
  {
   "cell_type": "code",
   "execution_count": 2,
   "id": "613c1b93",
   "metadata": {},
   "outputs": [],
   "source": [
    "# cell 1\n",
    "\n",
    "import re\n",
    "\n",
    "def atoi(text):\n",
    "    return int(text) if text.isdigit() else text\n",
    "\n",
    "def natural_keys(text):\n",
    "    '''\n",
    "    alist.sort(key=natural_keys) sorts in human order\n",
    "    http://nedbatchelder.com/blog/200712/human_sorting.html\n",
    "    (See Toothy's implementation in the comments)\n",
    "    '''\n",
    "    return [ atoi(c) for c in re.split(r'(\\d+)', text) ]\n"
   ]
  },
  {
   "cell_type": "markdown",
   "id": "82e642f2",
   "metadata": {},
   "source": [
    "먼저 파일을 읽어서 카테고리 이름을 요소로 갖는 string list를 만든다."
   ]
  },
  {
   "cell_type": "code",
   "execution_count": 3,
   "id": "8fe0ec57",
   "metadata": {},
   "outputs": [
    {
     "name": "stdout",
     "output_type": "stream",
     "text": [
      "['child', 'culture', 'economy', 'education', 'health', 'life', 'person', 'policy', 'society']\n"
     ]
    }
   ],
   "source": [
    "# cell 2\n",
    "\n",
    "import os\n",
    "\n",
    "path = '/Users/jeongdeok/Downloads/2022_Fall_Student_Data/8/Corpus/Input_Data'\n",
    "folder_list = os.listdir(path)\n",
    "\n",
    "category = []\n",
    "# 카테고리 string 저장할 list\n",
    "\n",
    "for i in folder_list:\n",
    "    if not i.endswith('.DS_Store'):\n",
    "    \t# .DS_Store 빼고 추가\n",
    "        category.append(i)\n",
    "        \n",
    "category.sort(key=natural_keys)\n",
    "\n",
    "print(category)"
   ]
  },
  {
   "cell_type": "markdown",
   "id": "63706f72",
   "metadata": {},
   "source": [
    "각 카테고리 안에 있는 파일 이름을 요소로 갖는 2D string list를 만든다."
   ]
  },
  {
   "cell_type": "code",
   "execution_count": null,
   "id": "6e11df90",
   "metadata": {},
   "outputs": [],
   "source": [
    "# cell 3\n",
    "\n",
    "fileName2D = []\n",
    "# row: categoryIdx, column: 해당 카테고리의 파일 이름\n",
    "\n",
    "for categoryIdx in range(len(category)):\n",
    "    path = '/Users/jeongdeok/Downloads/2022_Fall_Student_Data/8/Corpus/Input_Data/'+category[categoryIdx]\n",
    "    file_list = os.listdir(path)\n",
    "    #해당 카테고리 안에 있는 파일명이 담긴 string list\n",
    "\n",
    "    txt_list = []\n",
    "    for i in file_list:\n",
    "        if i.endswith('.txt') and not i.endswith('.DS_Store'):\n",
    "            #파일 형식이 .txt로 끝나는 파일 이름만 배열에 추가\n",
    "            txt_list.append(i)\n",
    "\n",
    "    txt_list.sort(key=natural_keys)\n",
    "    fileName2D.append(txt_list)\n",
    "\n",
    "for i in fileName2D:\n",
    "    print(len(i), end=\" \")\n",
    "    # 각 카테고리마다의 파일 개수 출력\n",
    "print()\n",
    "print(fileName2D)\n"
   ]
  },
  {
   "cell_type": "markdown",
   "id": "948aa8f7",
   "metadata": {},
   "source": [
    "모든 파일의 형태소를 요소로 갖는 중복없는 corpus를 만든다.\n",
    "row: docNum, 0번 column: category,  나머지 column: corpus 인 2D Dataframe을 만든다\n",
    "\n",
    "빈 DataFrame을 생성했을 때 행과 열이 둘 다 없으면 데이터를 추가하거나 수정할 수 없다.\n",
    "열 정보를 갖고 있어야 행 데이터를 추가할 수 있기 때문에 첫 column인 category를 추가해준다."
   ]
  },
  {
   "cell_type": "code",
   "execution_count": 9,
   "id": "24942c72",
   "metadata": {},
   "outputs": [
    {
     "data": {
      "text/html": [
       "<div>\n",
       "<style scoped>\n",
       "    .dataframe tbody tr th:only-of-type {\n",
       "        vertical-align: middle;\n",
       "    }\n",
       "\n",
       "    .dataframe tbody tr th {\n",
       "        vertical-align: top;\n",
       "    }\n",
       "\n",
       "    .dataframe thead th {\n",
       "        text-align: right;\n",
       "    }\n",
       "</style>\n",
       "<table border=\"1\" class=\"dataframe\">\n",
       "  <thead>\n",
       "    <tr style=\"text-align: right;\">\n",
       "      <th></th>\n",
       "      <th>category</th>\n",
       "    </tr>\n",
       "  </thead>\n",
       "  <tbody>\n",
       "  </tbody>\n",
       "</table>\n",
       "</div>"
      ],
      "text/plain": [
       "Empty DataFrame\n",
       "Columns: [category]\n",
       "Index: []"
      ]
     },
     "execution_count": 9,
     "metadata": {},
     "output_type": "execute_result"
    }
   ],
   "source": [
    "# cell 4\n",
    "\n",
    "import pandas as pd\n",
    "\n",
    "TF = pd.DataFrame(columns=range(1))\n",
    "TF.columns = ['category']\n",
    "\n",
    "corpus = []\n",
    "docNum = 0\n",
    "#문서 번호\n",
    "for categoryIdx in range(len(category)):\n",
    "    for fileIdx in range(len(fileName2D[categoryIdx])):\n",
    "        file = open(\"/Users/jeongdeok/Downloads/2022_Fall_Student_Data/8/Corpus/Input_Data/\"+category[categoryIdx]+\"/\"+fileName2D[categoryIdx][fileIdx], \"r\")\n",
    "\n",
    "        lines = file.readlines()\n",
    "        #한 줄씩 string list로 저장\n",
    "        #row에 doc+docNum 저장\n",
    "        #카테고리 열 값에 categoryIdx 저장\n",
    "        for line in lines:\n",
    "            morp = line.split('\\t')[-1].split('+')[0].strip('\\n')\n",
    "            #'\\t'를 기준으로 뒤, '+'를 기준으로 앞의 string을 잘라 배열에 저장\n",
    "            \n",
    "            if morp != '' and morp not in corpus:\n",
    "                #자른 string이 빈 문자열이 아니고 corpus안에서 중복되지 않을 때 요소 추가\n",
    "                corpus.append(morp)\n",
    "                \n",
    "corpus.sort(key=natural_keys)\n",
    "#ㄱㄴㄷ 순 정렬\n",
    "print(corpus)"
   ]
  },
  {
   "cell_type": "markdown",
   "id": "89f66d4b",
   "metadata": {},
   "source": [
    "형태소의 출현 횟수를 구하고 내림차순 정렬 후, corpus의 크기가 5000을 초과할 경우에는 5000번 부터의 요소를 삭제한다."
   ]
  },
  {
   "cell_type": "code",
   "execution_count": null,
   "id": "46289f24",
   "metadata": {},
   "outputs": [],
   "source": []
  }
 ],
 "metadata": {
  "kernelspec": {
   "display_name": "Python 3.9.7 ('base')",
   "language": "python",
   "name": "python3"
  },
  "language_info": {
   "codemirror_mode": {
    "name": "ipython",
    "version": 3
   },
   "file_extension": ".py",
   "mimetype": "text/x-python",
   "name": "python",
   "nbconvert_exporter": "python",
   "pygments_lexer": "ipython3",
   "version": "3.9.7"
  },
  "vscode": {
   "interpreter": {
    "hash": "eec0d2cc10f428a9ce8fa0920d6ad88811c0bc6a5ef840e5f3bc791baeb2257b"
   }
  }
 },
 "nbformat": 4,
 "nbformat_minor": 5
}
